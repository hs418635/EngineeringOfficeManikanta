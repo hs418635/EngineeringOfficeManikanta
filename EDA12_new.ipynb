{
 "cells": [
  {
   "cell_type": "code",
   "execution_count": 42,
   "id": "31056552-1d25-46d5-b331-f74c733844f0",
   "metadata": {},
   "outputs": [],
   "source": [
    "import pandas as pd\n",
    "import numpy as np"
   ]
  },
  {
   "cell_type": "code",
   "execution_count": 51,
   "id": "35e12141-45a1-4dd2-aff1-cfcb6f74d540",
   "metadata": {},
   "outputs": [
    {
     "name": "stderr",
     "output_type": "stream",
     "text": [
      "<>:1: SyntaxWarning: invalid escape sequence '\\T'\n",
      "<>:1: SyntaxWarning: invalid escape sequence '\\T'\n",
      "C:\\Users\\HIMANSHU SURYAVANSHI\\AppData\\Local\\Temp\\ipykernel_4740\\730120059.py:1: SyntaxWarning: invalid escape sequence '\\T'\n",
      "  T043T = pd.read_excel(\"Script 12\\T043T FI tolerance groups for employees.xlsx\")\n"
     ]
    }
   ],
   "source": [
    "T043T = pd.read_excel(\"Script 12\\T043T FI tolerance groups for employees.xlsx\")"
   ]
  },
  {
   "cell_type": "code",
   "execution_count": 52,
   "id": "a9ab14a3-72bc-4a4e-b0cb-7d94633d6119",
   "metadata": {},
   "outputs": [
    {
     "data": {
      "text/html": [
       "<div>\n",
       "<style scoped>\n",
       "    .dataframe tbody tr th:only-of-type {\n",
       "        vertical-align: middle;\n",
       "    }\n",
       "\n",
       "    .dataframe tbody tr th {\n",
       "        vertical-align: top;\n",
       "    }\n",
       "\n",
       "    .dataframe thead th {\n",
       "        text-align: right;\n",
       "    }\n",
       "</style>\n",
       "<table border=\"1\" class=\"dataframe\">\n",
       "  <thead>\n",
       "    <tr style=\"text-align: right;\">\n",
       "      <th></th>\n",
       "      <th>RFPRO</th>\n",
       "      <th>BUKRS</th>\n",
       "      <th>BETRS</th>\n",
       "      <th>BETRH</th>\n",
       "      <th>PROZS</th>\n",
       "      <th>PROZH</th>\n",
       "      <th>SKNTS</th>\n",
       "      <th>SKNTH</th>\n",
       "      <th>MAXBT</th>\n",
       "      <th>MAXEB</th>\n",
       "      <th>MAXSK</th>\n",
       "    </tr>\n",
       "  </thead>\n",
       "  <tbody>\n",
       "    <tr>\n",
       "      <th>0</th>\n",
       "      <td>NaN</td>\n",
       "      <td>0001</td>\n",
       "      <td>100</td>\n",
       "      <td>100</td>\n",
       "      <td>10</td>\n",
       "      <td>10</td>\n",
       "      <td>10</td>\n",
       "      <td>10</td>\n",
       "      <td>1,000,000,000,000.00</td>\n",
       "      <td>1,000,000,000.00</td>\n",
       "      <td>5</td>\n",
       "    </tr>\n",
       "    <tr>\n",
       "      <th>1</th>\n",
       "      <td>NaN</td>\n",
       "      <td>1000</td>\n",
       "      <td>1</td>\n",
       "      <td>1</td>\n",
       "      <td>10</td>\n",
       "      <td>10</td>\n",
       "      <td>10</td>\n",
       "      <td>5</td>\n",
       "      <td>9999999999999</td>\n",
       "      <td>9,999,999,999.00</td>\n",
       "      <td>10</td>\n",
       "    </tr>\n",
       "    <tr>\n",
       "      <th>2</th>\n",
       "      <td>NaN</td>\n",
       "      <td>RECO</td>\n",
       "      <td>100</td>\n",
       "      <td>100</td>\n",
       "      <td>10</td>\n",
       "      <td>10</td>\n",
       "      <td>10</td>\n",
       "      <td>10</td>\n",
       "      <td>1,000,000,000,000.00</td>\n",
       "      <td>1,000,000,000.00</td>\n",
       "      <td>5</td>\n",
       "    </tr>\n",
       "    <tr>\n",
       "      <th>3</th>\n",
       "      <td>NaN</td>\n",
       "      <td>REOB</td>\n",
       "      <td>100</td>\n",
       "      <td>100</td>\n",
       "      <td>10</td>\n",
       "      <td>10</td>\n",
       "      <td>10</td>\n",
       "      <td>10</td>\n",
       "      <td>1,000,000,000,000.00</td>\n",
       "      <td>1,000,000,000.00</td>\n",
       "      <td>5</td>\n",
       "    </tr>\n",
       "    <tr>\n",
       "      <th>4</th>\n",
       "      <td>NaN</td>\n",
       "      <td>RERF</td>\n",
       "      <td>100</td>\n",
       "      <td>100</td>\n",
       "      <td>10</td>\n",
       "      <td>10</td>\n",
       "      <td>10</td>\n",
       "      <td>10</td>\n",
       "      <td>1,000,000,000,000.00</td>\n",
       "      <td>1,000,000,000.00</td>\n",
       "      <td>5</td>\n",
       "    </tr>\n",
       "  </tbody>\n",
       "</table>\n",
       "</div>"
      ],
      "text/plain": [
       "   RFPRO BUKRS  BETRS  BETRH  PROZS  PROZH  SKNTS  SKNTH  \\\n",
       "0    NaN  0001    100    100     10     10     10     10   \n",
       "1    NaN  1000      1      1     10     10     10      5   \n",
       "2    NaN  RECO    100    100     10     10     10     10   \n",
       "3    NaN  REOB    100    100     10     10     10     10   \n",
       "4    NaN  RERF    100    100     10     10     10     10   \n",
       "\n",
       "                  MAXBT             MAXEB  MAXSK  \n",
       "0  1,000,000,000,000.00  1,000,000,000.00      5  \n",
       "1         9999999999999  9,999,999,999.00     10  \n",
       "2  1,000,000,000,000.00  1,000,000,000.00      5  \n",
       "3  1,000,000,000,000.00  1,000,000,000.00      5  \n",
       "4  1,000,000,000,000.00  1,000,000,000.00      5  "
      ]
     },
     "execution_count": 52,
     "metadata": {},
     "output_type": "execute_result"
    }
   ],
   "source": [
    "T043T.head()"
   ]
  },
  {
   "cell_type": "code",
   "execution_count": 53,
   "id": "3a8a3603-8f3f-44cf-9e26-245e1eb8ca81",
   "metadata": {},
   "outputs": [],
   "source": [
    "T043T = T043T.rename(columns=lambda x: x.strip())"
   ]
  },
  {
   "cell_type": "code",
   "execution_count": 54,
   "id": "c65f5537-4d36-458a-9ef6-aba3466bec43",
   "metadata": {},
   "outputs": [
    {
     "data": {
      "text/html": [
       "<div>\n",
       "<style scoped>\n",
       "    .dataframe tbody tr th:only-of-type {\n",
       "        vertical-align: middle;\n",
       "    }\n",
       "\n",
       "    .dataframe tbody tr th {\n",
       "        vertical-align: top;\n",
       "    }\n",
       "\n",
       "    .dataframe thead th {\n",
       "        text-align: right;\n",
       "    }\n",
       "</style>\n",
       "<table border=\"1\" class=\"dataframe\">\n",
       "  <thead>\n",
       "    <tr style=\"text-align: right;\">\n",
       "      <th></th>\n",
       "      <th>RFPRO</th>\n",
       "      <th>BUKRS</th>\n",
       "      <th>BETRS</th>\n",
       "      <th>BETRH</th>\n",
       "      <th>PROZS</th>\n",
       "      <th>PROZH</th>\n",
       "      <th>SKNTS</th>\n",
       "      <th>SKNTH</th>\n",
       "      <th>MAXBT</th>\n",
       "      <th>MAXEB</th>\n",
       "      <th>MAXSK</th>\n",
       "    </tr>\n",
       "  </thead>\n",
       "  <tbody>\n",
       "    <tr>\n",
       "      <th>0</th>\n",
       "      <td>NaN</td>\n",
       "      <td>0001</td>\n",
       "      <td>100</td>\n",
       "      <td>100</td>\n",
       "      <td>10</td>\n",
       "      <td>10</td>\n",
       "      <td>10</td>\n",
       "      <td>10</td>\n",
       "      <td>1,000,000,000,000.00</td>\n",
       "      <td>1,000,000,000.00</td>\n",
       "      <td>5</td>\n",
       "    </tr>\n",
       "    <tr>\n",
       "      <th>1</th>\n",
       "      <td>NaN</td>\n",
       "      <td>1000</td>\n",
       "      <td>1</td>\n",
       "      <td>1</td>\n",
       "      <td>10</td>\n",
       "      <td>10</td>\n",
       "      <td>10</td>\n",
       "      <td>5</td>\n",
       "      <td>9999999999999</td>\n",
       "      <td>9,999,999,999.00</td>\n",
       "      <td>10</td>\n",
       "    </tr>\n",
       "    <tr>\n",
       "      <th>2</th>\n",
       "      <td>NaN</td>\n",
       "      <td>RECO</td>\n",
       "      <td>100</td>\n",
       "      <td>100</td>\n",
       "      <td>10</td>\n",
       "      <td>10</td>\n",
       "      <td>10</td>\n",
       "      <td>10</td>\n",
       "      <td>1,000,000,000,000.00</td>\n",
       "      <td>1,000,000,000.00</td>\n",
       "      <td>5</td>\n",
       "    </tr>\n",
       "    <tr>\n",
       "      <th>3</th>\n",
       "      <td>NaN</td>\n",
       "      <td>REOB</td>\n",
       "      <td>100</td>\n",
       "      <td>100</td>\n",
       "      <td>10</td>\n",
       "      <td>10</td>\n",
       "      <td>10</td>\n",
       "      <td>10</td>\n",
       "      <td>1,000,000,000,000.00</td>\n",
       "      <td>1,000,000,000.00</td>\n",
       "      <td>5</td>\n",
       "    </tr>\n",
       "    <tr>\n",
       "      <th>4</th>\n",
       "      <td>NaN</td>\n",
       "      <td>RERF</td>\n",
       "      <td>100</td>\n",
       "      <td>100</td>\n",
       "      <td>10</td>\n",
       "      <td>10</td>\n",
       "      <td>10</td>\n",
       "      <td>10</td>\n",
       "      <td>1,000,000,000,000.00</td>\n",
       "      <td>1,000,000,000.00</td>\n",
       "      <td>5</td>\n",
       "    </tr>\n",
       "  </tbody>\n",
       "</table>\n",
       "</div>"
      ],
      "text/plain": [
       "   RFPRO BUKRS  BETRS  BETRH  PROZS  PROZH  SKNTS  SKNTH  \\\n",
       "0    NaN  0001    100    100     10     10     10     10   \n",
       "1    NaN  1000      1      1     10     10     10      5   \n",
       "2    NaN  RECO    100    100     10     10     10     10   \n",
       "3    NaN  REOB    100    100     10     10     10     10   \n",
       "4    NaN  RERF    100    100     10     10     10     10   \n",
       "\n",
       "                  MAXBT             MAXEB  MAXSK  \n",
       "0  1,000,000,000,000.00  1,000,000,000.00      5  \n",
       "1         9999999999999  9,999,999,999.00     10  \n",
       "2  1,000,000,000,000.00  1,000,000,000.00      5  \n",
       "3  1,000,000,000,000.00  1,000,000,000.00      5  \n",
       "4  1,000,000,000,000.00  1,000,000,000.00      5  "
      ]
     },
     "execution_count": 54,
     "metadata": {},
     "output_type": "execute_result"
    }
   ],
   "source": [
    "T043T.head()"
   ]
  },
  {
   "cell_type": "code",
   "execution_count": 55,
   "id": "1eb66ddc-20ec-4672-9b21-06f5a50d5c1c",
   "metadata": {},
   "outputs": [
    {
     "name": "stdout",
     "output_type": "stream",
     "text": [
      "<class 'pandas.core.frame.DataFrame'>\n",
      "RangeIndex: 5 entries, 0 to 4\n",
      "Data columns (total 11 columns):\n",
      " #   Column  Non-Null Count  Dtype  \n",
      "---  ------  --------------  -----  \n",
      " 0   RFPRO   0 non-null      float64\n",
      " 1   BUKRS   5 non-null      object \n",
      " 2   BETRS   5 non-null      int64  \n",
      " 3   BETRH   5 non-null      int64  \n",
      " 4   PROZS   5 non-null      int64  \n",
      " 5   PROZH   5 non-null      int64  \n",
      " 6   SKNTS   5 non-null      int64  \n",
      " 7   SKNTH   5 non-null      int64  \n",
      " 8   MAXBT   5 non-null      object \n",
      " 9   MAXEB   5 non-null      object \n",
      " 10  MAXSK   5 non-null      int64  \n",
      "dtypes: float64(1), int64(7), object(3)\n",
      "memory usage: 572.0+ bytes\n"
     ]
    }
   ],
   "source": [
    "T043T.info()"
   ]
  },
  {
   "cell_type": "code",
   "execution_count": 56,
   "id": "857cd78b-0d74-43cd-b5f6-71ee0677f74a",
   "metadata": {},
   "outputs": [
    {
     "data": {
      "text/plain": [
       "array(['0001', '1000', 'RECO', 'REOB', 'RERF'], dtype=object)"
      ]
     },
     "execution_count": 56,
     "metadata": {},
     "output_type": "execute_result"
    }
   ],
   "source": [
    "T043T['BUKRS'].unique()"
   ]
  },
  {
   "cell_type": "code",
   "execution_count": 57,
   "id": "f5a346ba-cba2-41bf-b1ac-372dfa7cd587",
   "metadata": {},
   "outputs": [],
   "source": [
    "T043T = T043T[T043T['BUKRS'] == '1000']"
   ]
  },
  {
   "cell_type": "code",
   "execution_count": 58,
   "id": "8c92028e-dc48-4eb9-b69f-d3ed2f5f3739",
   "metadata": {},
   "outputs": [
    {
     "data": {
      "text/html": [
       "<div>\n",
       "<style scoped>\n",
       "    .dataframe tbody tr th:only-of-type {\n",
       "        vertical-align: middle;\n",
       "    }\n",
       "\n",
       "    .dataframe tbody tr th {\n",
       "        vertical-align: top;\n",
       "    }\n",
       "\n",
       "    .dataframe thead th {\n",
       "        text-align: right;\n",
       "    }\n",
       "</style>\n",
       "<table border=\"1\" class=\"dataframe\">\n",
       "  <thead>\n",
       "    <tr style=\"text-align: right;\">\n",
       "      <th></th>\n",
       "      <th>RFPRO</th>\n",
       "      <th>BUKRS</th>\n",
       "      <th>BETRS</th>\n",
       "      <th>BETRH</th>\n",
       "      <th>PROZS</th>\n",
       "      <th>PROZH</th>\n",
       "      <th>SKNTS</th>\n",
       "      <th>SKNTH</th>\n",
       "      <th>MAXBT</th>\n",
       "      <th>MAXEB</th>\n",
       "      <th>MAXSK</th>\n",
       "    </tr>\n",
       "  </thead>\n",
       "  <tbody>\n",
       "    <tr>\n",
       "      <th>1</th>\n",
       "      <td>NaN</td>\n",
       "      <td>1000</td>\n",
       "      <td>1</td>\n",
       "      <td>1</td>\n",
       "      <td>10</td>\n",
       "      <td>10</td>\n",
       "      <td>10</td>\n",
       "      <td>5</td>\n",
       "      <td>9999999999999</td>\n",
       "      <td>9,999,999,999.00</td>\n",
       "      <td>10</td>\n",
       "    </tr>\n",
       "  </tbody>\n",
       "</table>\n",
       "</div>"
      ],
      "text/plain": [
       "   RFPRO BUKRS  BETRS  BETRH  PROZS  PROZH  SKNTS  SKNTH          MAXBT  \\\n",
       "1    NaN  1000      1      1     10     10     10      5  9999999999999   \n",
       "\n",
       "              MAXEB  MAXSK  \n",
       "1  9,999,999,999.00     10  "
      ]
     },
     "execution_count": 58,
     "metadata": {},
     "output_type": "execute_result"
    }
   ],
   "source": [
    "T043T.head()"
   ]
  },
  {
   "cell_type": "code",
   "execution_count": 65,
   "id": "28457e04-2e89-4d0b-8096-0c5034f4c9f9",
   "metadata": {},
   "outputs": [
    {
     "name": "stderr",
     "output_type": "stream",
     "text": [
      "<>:1: SyntaxWarning: invalid escape sequence '\\d'\n",
      "<>:1: SyntaxWarning: invalid escape sequence '\\d'\n",
      "C:\\Users\\HIMANSHU SURYAVANSHI\\AppData\\Local\\Temp\\ipykernel_4740\\216949872.py:1: SyntaxWarning: invalid escape sequence '\\d'\n",
      "  T043T['MAXBT'].astype(str).str.count('\\d')\n"
     ]
    },
    {
     "data": {
      "text/plain": [
       "1    13\n",
       "Name: MAXBT, dtype: int64"
      ]
     },
     "execution_count": 65,
     "metadata": {},
     "output_type": "execute_result"
    }
   ],
   "source": [
    "T043T['MAXBT'].astype(str).str.count('\\d')"
   ]
  },
  {
   "cell_type": "code",
   "execution_count": 66,
   "id": "1602b31f-e565-4ffe-8df3-842e346cdf44",
   "metadata": {},
   "outputs": [
    {
     "name": "stderr",
     "output_type": "stream",
     "text": [
      "<>:1: SyntaxWarning: invalid escape sequence '\\d'\n",
      "<>:1: SyntaxWarning: invalid escape sequence '\\d'\n",
      "C:\\Users\\HIMANSHU SURYAVANSHI\\AppData\\Local\\Temp\\ipykernel_4740\\1809253319.py:1: SyntaxWarning: invalid escape sequence '\\d'\n",
      "  T043T = T043T[T043T['MAXBT'].astype(str).str.count('\\d') >= 13]\n"
     ]
    }
   ],
   "source": [
    "T043T = T043T[T043T['MAXBT'].astype(str).str.count('\\d') >= 13]"
   ]
  },
  {
   "cell_type": "code",
   "execution_count": 67,
   "id": "8ee39dd5-829d-4262-bb07-53247157fee2",
   "metadata": {},
   "outputs": [
    {
     "data": {
      "text/html": [
       "<div>\n",
       "<style scoped>\n",
       "    .dataframe tbody tr th:only-of-type {\n",
       "        vertical-align: middle;\n",
       "    }\n",
       "\n",
       "    .dataframe tbody tr th {\n",
       "        vertical-align: top;\n",
       "    }\n",
       "\n",
       "    .dataframe thead th {\n",
       "        text-align: right;\n",
       "    }\n",
       "</style>\n",
       "<table border=\"1\" class=\"dataframe\">\n",
       "  <thead>\n",
       "    <tr style=\"text-align: right;\">\n",
       "      <th></th>\n",
       "      <th>RFPRO</th>\n",
       "      <th>BUKRS</th>\n",
       "      <th>BETRS</th>\n",
       "      <th>BETRH</th>\n",
       "      <th>PROZS</th>\n",
       "      <th>PROZH</th>\n",
       "      <th>SKNTS</th>\n",
       "      <th>SKNTH</th>\n",
       "      <th>MAXBT</th>\n",
       "      <th>MAXEB</th>\n",
       "      <th>MAXSK</th>\n",
       "    </tr>\n",
       "  </thead>\n",
       "  <tbody>\n",
       "    <tr>\n",
       "      <th>1</th>\n",
       "      <td>NaN</td>\n",
       "      <td>1000</td>\n",
       "      <td>1</td>\n",
       "      <td>1</td>\n",
       "      <td>10</td>\n",
       "      <td>10</td>\n",
       "      <td>10</td>\n",
       "      <td>5</td>\n",
       "      <td>9999999999999</td>\n",
       "      <td>9,999,999,999.00</td>\n",
       "      <td>10</td>\n",
       "    </tr>\n",
       "  </tbody>\n",
       "</table>\n",
       "</div>"
      ],
      "text/plain": [
       "   RFPRO BUKRS  BETRS  BETRH  PROZS  PROZH  SKNTS  SKNTH          MAXBT  \\\n",
       "1    NaN  1000      1      1     10     10     10      5  9999999999999   \n",
       "\n",
       "              MAXEB  MAXSK  \n",
       "1  9,999,999,999.00     10  "
      ]
     },
     "execution_count": 67,
     "metadata": {},
     "output_type": "execute_result"
    }
   ],
   "source": [
    "T043T.head()"
   ]
  },
  {
   "cell_type": "code",
   "execution_count": 68,
   "id": "37281e73-9a61-4249-baea-b1f788b11ca8",
   "metadata": {},
   "outputs": [],
   "source": [
    "T043T.to_csv(\"EDA12_new.csv\", index=False)"
   ]
  },
  {
   "cell_type": "code",
   "execution_count": null,
   "id": "48134fe5-695d-4224-87ab-f69468bc14c8",
   "metadata": {},
   "outputs": [],
   "source": []
  },
  {
   "cell_type": "code",
   "execution_count": null,
   "id": "bbc94bfa-6d70-4154-af58-e2e892ff3a52",
   "metadata": {},
   "outputs": [],
   "source": []
  }
 ],
 "metadata": {
  "kernelspec": {
   "display_name": "Python 3 (ipykernel)",
   "language": "python",
   "name": "python3"
  },
  "language_info": {
   "codemirror_mode": {
    "name": "ipython",
    "version": 3
   },
   "file_extension": ".py",
   "mimetype": "text/x-python",
   "name": "python",
   "nbconvert_exporter": "python",
   "pygments_lexer": "ipython3",
   "version": "3.12.7"
  }
 },
 "nbformat": 4,
 "nbformat_minor": 5
}
