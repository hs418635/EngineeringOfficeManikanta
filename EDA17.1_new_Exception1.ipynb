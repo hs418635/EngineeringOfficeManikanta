{
 "cells": [
  {
   "cell_type": "code",
   "execution_count": 1,
   "id": "4c82e6e9-33fb-4667-9ba2-04527e42e41d",
   "metadata": {},
   "outputs": [],
   "source": [
    "import pandas as pd\n",
    "import numpy as np"
   ]
  },
  {
   "cell_type": "code",
   "execution_count": 11,
   "id": "1a4584fa-a33c-42b3-af97-cd1cd767c4d4",
   "metadata": {},
   "outputs": [
    {
     "data": {
      "text/html": [
       "<div>\n",
       "<style scoped>\n",
       "    .dataframe tbody tr th:only-of-type {\n",
       "        vertical-align: middle;\n",
       "    }\n",
       "\n",
       "    .dataframe tbody tr th {\n",
       "        vertical-align: top;\n",
       "    }\n",
       "\n",
       "    .dataframe thead th {\n",
       "        text-align: right;\n",
       "    }\n",
       "</style>\n",
       "<table border=\"1\" class=\"dataframe\">\n",
       "  <thead>\n",
       "    <tr style=\"text-align: right;\">\n",
       "      <th></th>\n",
       "      <th>AFARSL</th>\n",
       "      <th>AFATYP</th>\n",
       "      <th>AFAMET</th>\n",
       "      <th>XLIFEC</th>\n",
       "      <th>XENDAU</th>\n",
       "      <th>XUNTNL</th>\n",
       "      <th>XEFDAU</th>\n",
       "      <th>Name of Base Method</th>\n",
       "    </tr>\n",
       "  </thead>\n",
       "  <tbody>\n",
       "    <tr>\n",
       "      <th>0</th>\n",
       "      <td>0001</td>\n",
       "      <td>N</td>\n",
       "      <td>A</td>\n",
       "      <td>NaN</td>\n",
       "      <td>NaN</td>\n",
       "      <td>NaN</td>\n",
       "      <td>NaN</td>\n",
       "      <td>Ordinary: sum-of-the-years-digits</td>\n",
       "    </tr>\n",
       "    <tr>\n",
       "      <th>1</th>\n",
       "      <td>0002</td>\n",
       "      <td>N</td>\n",
       "      <td>N</td>\n",
       "      <td>NaN</td>\n",
       "      <td>NaN</td>\n",
       "      <td>NaN</td>\n",
       "      <td>NaN</td>\n",
       "      <td>Ordinary: no automatic depreciation</td>\n",
       "    </tr>\n",
       "    <tr>\n",
       "      <th>2</th>\n",
       "      <td>0003</td>\n",
       "      <td>N</td>\n",
       "      <td>L</td>\n",
       "      <td>NaN</td>\n",
       "      <td>NaN</td>\n",
       "      <td>NaN</td>\n",
       "      <td>NaN</td>\n",
       "      <td>Ordinary: leasing</td>\n",
       "    </tr>\n",
       "    <tr>\n",
       "      <th>3</th>\n",
       "      <td>0004</td>\n",
       "      <td>N</td>\n",
       "      <td>J</td>\n",
       "      <td>NaN</td>\n",
       "      <td>X</td>\n",
       "      <td>NaN</td>\n",
       "      <td>NaN</td>\n",
       "      <td>Ordinary: decl.-balance over total life    (Ja...</td>\n",
       "    </tr>\n",
       "    <tr>\n",
       "      <th>4</th>\n",
       "      <td>0005</td>\n",
       "      <td>N</td>\n",
       "      <td>D</td>\n",
       "      <td>X</td>\n",
       "      <td>NaN</td>\n",
       "      <td>NaN</td>\n",
       "      <td>NaN</td>\n",
       "      <td>Ordinary: percentage from useful life (reduction)</td>\n",
       "    </tr>\n",
       "  </tbody>\n",
       "</table>\n",
       "</div>"
      ],
      "text/plain": [
       "  AFARSL AFATYP AFAMET XLIFEC XENDAU XUNTNL XEFDAU  \\\n",
       "0   0001      N      A    NaN    NaN    NaN    NaN   \n",
       "1   0002      N      N    NaN    NaN    NaN    NaN   \n",
       "2   0003      N      L    NaN    NaN    NaN    NaN   \n",
       "3   0004      N      J    NaN      X    NaN    NaN   \n",
       "4   0005      N      D      X    NaN    NaN    NaN   \n",
       "\n",
       "                                 Name of Base Method  \n",
       "0                  Ordinary: sum-of-the-years-digits  \n",
       "1                Ordinary: no automatic depreciation  \n",
       "2                                  Ordinary: leasing  \n",
       "3  Ordinary: decl.-balance over total life    (Ja...  \n",
       "4  Ordinary: percentage from useful life (reduction)  "
      ]
     },
     "execution_count": 11,
     "metadata": {},
     "output_type": "execute_result"
    }
   ],
   "source": [
    "T090NR = pd.read_excel(\"T090NR.xlsx\")\n",
    "T090NR.head()"
   ]
  },
  {
   "cell_type": "code",
   "execution_count": 12,
   "id": "33fccd80-0b93-4562-b6ac-8588178e0998",
   "metadata": {},
   "outputs": [
    {
     "name": "stdout",
     "output_type": "stream",
     "text": [
      "<class 'pandas.core.frame.DataFrame'>\n",
      "RangeIndex: 59 entries, 0 to 58\n",
      "Data columns (total 8 columns):\n",
      " #   Column               Non-Null Count  Dtype \n",
      "---  ------               --------------  ----- \n",
      " 0   AFARSL               59 non-null     object\n",
      " 1   AFATYP               59 non-null     object\n",
      " 2   AFAMET               59 non-null     object\n",
      " 3   XLIFEC               5 non-null      object\n",
      " 4   XENDAU               37 non-null     object\n",
      " 5   XUNTNL               7 non-null      object\n",
      " 6   XEFDAU               1 non-null      object\n",
      " 7   Name of Base Method  56 non-null     object\n",
      "dtypes: object(8)\n",
      "memory usage: 3.8+ KB\n"
     ]
    }
   ],
   "source": [
    "T090NR.info()"
   ]
  },
  {
   "cell_type": "code",
   "execution_count": 13,
   "id": "04ce2724-5e2f-4963-83fa-e65f0133b83a",
   "metadata": {},
   "outputs": [
    {
     "data": {
      "text/plain": [
       "AFARSL                  0\n",
       "AFATYP                  0\n",
       "AFAMET                  0\n",
       "XLIFEC                 54\n",
       "XENDAU                 22\n",
       "XUNTNL                 52\n",
       "XEFDAU                 58\n",
       "Name of Base Method     3\n",
       "dtype: int64"
      ]
     },
     "execution_count": 13,
     "metadata": {},
     "output_type": "execute_result"
    }
   ],
   "source": [
    "T090NR.isna().sum()"
   ]
  },
  {
   "cell_type": "code",
   "execution_count": 14,
   "id": "cff3f8ad-3737-4662-97ce-bdec8b7153f4",
   "metadata": {},
   "outputs": [
    {
     "data": {
      "text/plain": [
       "Index(['AFARSL', 'AFATYP', 'AFAMET', 'XLIFEC', 'XENDAU', 'XUNTNL', 'XEFDAU',\n",
       "       'Name of Base Method'],\n",
       "      dtype='object')"
      ]
     },
     "execution_count": 14,
     "metadata": {},
     "output_type": "execute_result"
    }
   ],
   "source": [
    "T090NR.columns"
   ]
  },
  {
   "cell_type": "code",
   "execution_count": 15,
   "id": "d749df89-e8f6-4030-936f-614d89dacc35",
   "metadata": {},
   "outputs": [],
   "source": [
    "T090NR = T090NR.rename(columns=lambda x : x.strip())"
   ]
  },
  {
   "cell_type": "code",
   "execution_count": 16,
   "id": "45946779-0c66-4762-aaba-73554caa7a6d",
   "metadata": {},
   "outputs": [
    {
     "data": {
      "text/plain": [
       "Index(['AFARSL', 'AFATYP', 'AFAMET', 'XLIFEC', 'XENDAU', 'XUNTNL', 'XEFDAU',\n",
       "       'Name of Base Method'],\n",
       "      dtype='object')"
      ]
     },
     "execution_count": 16,
     "metadata": {},
     "output_type": "execute_result"
    }
   ],
   "source": [
    "T090NR.columns"
   ]
  },
  {
   "cell_type": "code",
   "execution_count": 19,
   "id": "5d9bad7a-cb8a-4890-85f4-98e5340861ea",
   "metadata": {},
   "outputs": [
    {
     "name": "stderr",
     "output_type": "stream",
     "text": [
      "C:\\Users\\HIMANSHU SURYAVANSHI\\AppData\\Local\\Temp\\ipykernel_8608\\2374521407.py:1: UserWarning: This pattern is interpreted as a regular expression, and has match groups. To actually get the groups, use str.extract.\n",
      "  T090NR = T090NR[T090NR['Name of Base Method'].str.contains('(after end of life)', na=False)]\n"
     ]
    }
   ],
   "source": [
    "T090NR = T090NR[T090NR['Name of Base Method'].str.contains('(after end of life)', na=False)]"
   ]
  },
  {
   "cell_type": "code",
   "execution_count": 20,
   "id": "9c0cd00a-2f92-4652-9452-77953b9242b6",
   "metadata": {},
   "outputs": [
    {
     "data": {
      "text/html": [
       "<div>\n",
       "<style scoped>\n",
       "    .dataframe tbody tr th:only-of-type {\n",
       "        vertical-align: middle;\n",
       "    }\n",
       "\n",
       "    .dataframe tbody tr th {\n",
       "        vertical-align: top;\n",
       "    }\n",
       "\n",
       "    .dataframe thead th {\n",
       "        text-align: right;\n",
       "    }\n",
       "</style>\n",
       "<table border=\"1\" class=\"dataframe\">\n",
       "  <thead>\n",
       "    <tr style=\"text-align: right;\">\n",
       "      <th></th>\n",
       "      <th>AFARSL</th>\n",
       "      <th>AFATYP</th>\n",
       "      <th>AFAMET</th>\n",
       "      <th>XLIFEC</th>\n",
       "      <th>XENDAU</th>\n",
       "      <th>XUNTNL</th>\n",
       "      <th>XEFDAU</th>\n",
       "      <th>Name of Base Method</th>\n",
       "    </tr>\n",
       "  </thead>\n",
       "  <tbody>\n",
       "    <tr>\n",
       "      <th>6</th>\n",
       "      <td>0007</td>\n",
       "      <td>N</td>\n",
       "      <td>D</td>\n",
       "      <td>NaN</td>\n",
       "      <td>X</td>\n",
       "      <td>NaN</td>\n",
       "      <td>NaN</td>\n",
       "      <td>Ordinary: percentage from life (after end of l...</td>\n",
       "    </tr>\n",
       "    <tr>\n",
       "      <th>13</th>\n",
       "      <td>0014</td>\n",
       "      <td>N</td>\n",
       "      <td>P</td>\n",
       "      <td>NaN</td>\n",
       "      <td>X</td>\n",
       "      <td>NaN</td>\n",
       "      <td>NaN</td>\n",
       "      <td>Ordinary: explicit percentage (after end of life)</td>\n",
       "    </tr>\n",
       "    <tr>\n",
       "      <th>16</th>\n",
       "      <td>0017</td>\n",
       "      <td>N</td>\n",
       "      <td>V</td>\n",
       "      <td>X</td>\n",
       "      <td>X</td>\n",
       "      <td>NaN</td>\n",
       "      <td>NaN</td>\n",
       "      <td>Ordinary: immediate deprec. (after end of life)</td>\n",
       "    </tr>\n",
       "    <tr>\n",
       "      <th>18</th>\n",
       "      <td>0019</td>\n",
       "      <td>N</td>\n",
       "      <td>S</td>\n",
       "      <td>NaN</td>\n",
       "      <td>X</td>\n",
       "      <td>NaN</td>\n",
       "      <td>NaN</td>\n",
       "      <td>Ordinary: Unit-of-production (after end of life)</td>\n",
       "    </tr>\n",
       "    <tr>\n",
       "      <th>21</th>\n",
       "      <td>0022</td>\n",
       "      <td>S</td>\n",
       "      <td>G</td>\n",
       "      <td>NaN</td>\n",
       "      <td>X</td>\n",
       "      <td>NaN</td>\n",
       "      <td>NaN</td>\n",
       "      <td>Special: total percentage (after end of life)</td>\n",
       "    </tr>\n",
       "    <tr>\n",
       "      <th>24</th>\n",
       "      <td>0025</td>\n",
       "      <td>S</td>\n",
       "      <td>P</td>\n",
       "      <td>NaN</td>\n",
       "      <td>X</td>\n",
       "      <td>NaN</td>\n",
       "      <td>NaN</td>\n",
       "      <td>Special: explicit percentage (after end of life)</td>\n",
       "    </tr>\n",
       "    <tr>\n",
       "      <th>26</th>\n",
       "      <td>0027</td>\n",
       "      <td>S</td>\n",
       "      <td>V</td>\n",
       "      <td>NaN</td>\n",
       "      <td>X</td>\n",
       "      <td>NaN</td>\n",
       "      <td>NaN</td>\n",
       "      <td>Special: immediate deprec. (after end of life)</td>\n",
       "    </tr>\n",
       "    <tr>\n",
       "      <th>29</th>\n",
       "      <td>0030</td>\n",
       "      <td>Z</td>\n",
       "      <td>P</td>\n",
       "      <td>NaN</td>\n",
       "      <td>X</td>\n",
       "      <td>NaN</td>\n",
       "      <td>NaN</td>\n",
       "      <td>Interest: explicit percentage (after end of life)</td>\n",
       "    </tr>\n",
       "  </tbody>\n",
       "</table>\n",
       "</div>"
      ],
      "text/plain": [
       "   AFARSL AFATYP AFAMET XLIFEC XENDAU XUNTNL XEFDAU  \\\n",
       "6    0007      N      D    NaN      X    NaN    NaN   \n",
       "13   0014      N      P    NaN      X    NaN    NaN   \n",
       "16   0017      N      V      X      X    NaN    NaN   \n",
       "18   0019      N      S    NaN      X    NaN    NaN   \n",
       "21   0022      S      G    NaN      X    NaN    NaN   \n",
       "24   0025      S      P    NaN      X    NaN    NaN   \n",
       "26   0027      S      V    NaN      X    NaN    NaN   \n",
       "29   0030      Z      P    NaN      X    NaN    NaN   \n",
       "\n",
       "                                  Name of Base Method  \n",
       "6   Ordinary: percentage from life (after end of l...  \n",
       "13  Ordinary: explicit percentage (after end of life)  \n",
       "16    Ordinary: immediate deprec. (after end of life)  \n",
       "18   Ordinary: Unit-of-production (after end of life)  \n",
       "21      Special: total percentage (after end of life)  \n",
       "24   Special: explicit percentage (after end of life)  \n",
       "26     Special: immediate deprec. (after end of life)  \n",
       "29  Interest: explicit percentage (after end of life)  "
      ]
     },
     "execution_count": 20,
     "metadata": {},
     "output_type": "execute_result"
    }
   ],
   "source": [
    "T090NR"
   ]
  },
  {
   "cell_type": "code",
   "execution_count": 23,
   "id": "c382e641-5c18-4fb8-9cb5-c120fb941fa5",
   "metadata": {},
   "outputs": [
    {
     "name": "stderr",
     "output_type": "stream",
     "text": [
      "C:\\Users\\HIMANSHU SURYAVANSHI\\AppData\\Local\\Temp\\ipykernel_8608\\2200433778.py:1: SettingWithCopyWarning: \n",
      "A value is trying to be set on a copy of a slice from a DataFrame.\n",
      "Try using .loc[row_indexer,col_indexer] = value instead\n",
      "\n",
      "See the caveats in the documentation: https://pandas.pydata.org/pandas-docs/stable/user_guide/indexing.html#returning-a-view-versus-a-copy\n",
      "  T090NR['Exception'] = T090NR['XENDAU'].apply(lambda x:1 if x=='X' else 0)\n"
     ]
    }
   ],
   "source": [
    "T090NR['Exception'] = T090NR['XENDAU'].apply(lambda x:1 if x=='X' else 0)"
   ]
  },
  {
   "cell_type": "code",
   "execution_count": 24,
   "id": "d4066de7-8a24-46eb-8cee-dd87ff34ca4f",
   "metadata": {},
   "outputs": [
    {
     "data": {
      "text/html": [
       "<div>\n",
       "<style scoped>\n",
       "    .dataframe tbody tr th:only-of-type {\n",
       "        vertical-align: middle;\n",
       "    }\n",
       "\n",
       "    .dataframe tbody tr th {\n",
       "        vertical-align: top;\n",
       "    }\n",
       "\n",
       "    .dataframe thead th {\n",
       "        text-align: right;\n",
       "    }\n",
       "</style>\n",
       "<table border=\"1\" class=\"dataframe\">\n",
       "  <thead>\n",
       "    <tr style=\"text-align: right;\">\n",
       "      <th></th>\n",
       "      <th>AFARSL</th>\n",
       "      <th>AFATYP</th>\n",
       "      <th>AFAMET</th>\n",
       "      <th>XLIFEC</th>\n",
       "      <th>XENDAU</th>\n",
       "      <th>XUNTNL</th>\n",
       "      <th>XEFDAU</th>\n",
       "      <th>Name of Base Method</th>\n",
       "      <th>Exception</th>\n",
       "    </tr>\n",
       "  </thead>\n",
       "  <tbody>\n",
       "    <tr>\n",
       "      <th>6</th>\n",
       "      <td>0007</td>\n",
       "      <td>N</td>\n",
       "      <td>D</td>\n",
       "      <td>NaN</td>\n",
       "      <td>X</td>\n",
       "      <td>NaN</td>\n",
       "      <td>NaN</td>\n",
       "      <td>Ordinary: percentage from life (after end of l...</td>\n",
       "      <td>1</td>\n",
       "    </tr>\n",
       "    <tr>\n",
       "      <th>13</th>\n",
       "      <td>0014</td>\n",
       "      <td>N</td>\n",
       "      <td>P</td>\n",
       "      <td>NaN</td>\n",
       "      <td>X</td>\n",
       "      <td>NaN</td>\n",
       "      <td>NaN</td>\n",
       "      <td>Ordinary: explicit percentage (after end of life)</td>\n",
       "      <td>1</td>\n",
       "    </tr>\n",
       "    <tr>\n",
       "      <th>16</th>\n",
       "      <td>0017</td>\n",
       "      <td>N</td>\n",
       "      <td>V</td>\n",
       "      <td>X</td>\n",
       "      <td>X</td>\n",
       "      <td>NaN</td>\n",
       "      <td>NaN</td>\n",
       "      <td>Ordinary: immediate deprec. (after end of life)</td>\n",
       "      <td>1</td>\n",
       "    </tr>\n",
       "    <tr>\n",
       "      <th>18</th>\n",
       "      <td>0019</td>\n",
       "      <td>N</td>\n",
       "      <td>S</td>\n",
       "      <td>NaN</td>\n",
       "      <td>X</td>\n",
       "      <td>NaN</td>\n",
       "      <td>NaN</td>\n",
       "      <td>Ordinary: Unit-of-production (after end of life)</td>\n",
       "      <td>1</td>\n",
       "    </tr>\n",
       "    <tr>\n",
       "      <th>21</th>\n",
       "      <td>0022</td>\n",
       "      <td>S</td>\n",
       "      <td>G</td>\n",
       "      <td>NaN</td>\n",
       "      <td>X</td>\n",
       "      <td>NaN</td>\n",
       "      <td>NaN</td>\n",
       "      <td>Special: total percentage (after end of life)</td>\n",
       "      <td>1</td>\n",
       "    </tr>\n",
       "    <tr>\n",
       "      <th>24</th>\n",
       "      <td>0025</td>\n",
       "      <td>S</td>\n",
       "      <td>P</td>\n",
       "      <td>NaN</td>\n",
       "      <td>X</td>\n",
       "      <td>NaN</td>\n",
       "      <td>NaN</td>\n",
       "      <td>Special: explicit percentage (after end of life)</td>\n",
       "      <td>1</td>\n",
       "    </tr>\n",
       "    <tr>\n",
       "      <th>26</th>\n",
       "      <td>0027</td>\n",
       "      <td>S</td>\n",
       "      <td>V</td>\n",
       "      <td>NaN</td>\n",
       "      <td>X</td>\n",
       "      <td>NaN</td>\n",
       "      <td>NaN</td>\n",
       "      <td>Special: immediate deprec. (after end of life)</td>\n",
       "      <td>1</td>\n",
       "    </tr>\n",
       "    <tr>\n",
       "      <th>29</th>\n",
       "      <td>0030</td>\n",
       "      <td>Z</td>\n",
       "      <td>P</td>\n",
       "      <td>NaN</td>\n",
       "      <td>X</td>\n",
       "      <td>NaN</td>\n",
       "      <td>NaN</td>\n",
       "      <td>Interest: explicit percentage (after end of life)</td>\n",
       "      <td>1</td>\n",
       "    </tr>\n",
       "  </tbody>\n",
       "</table>\n",
       "</div>"
      ],
      "text/plain": [
       "   AFARSL AFATYP AFAMET XLIFEC XENDAU XUNTNL XEFDAU  \\\n",
       "6    0007      N      D    NaN      X    NaN    NaN   \n",
       "13   0014      N      P    NaN      X    NaN    NaN   \n",
       "16   0017      N      V      X      X    NaN    NaN   \n",
       "18   0019      N      S    NaN      X    NaN    NaN   \n",
       "21   0022      S      G    NaN      X    NaN    NaN   \n",
       "24   0025      S      P    NaN      X    NaN    NaN   \n",
       "26   0027      S      V    NaN      X    NaN    NaN   \n",
       "29   0030      Z      P    NaN      X    NaN    NaN   \n",
       "\n",
       "                                  Name of Base Method  Exception  \n",
       "6   Ordinary: percentage from life (after end of l...          1  \n",
       "13  Ordinary: explicit percentage (after end of life)          1  \n",
       "16    Ordinary: immediate deprec. (after end of life)          1  \n",
       "18   Ordinary: Unit-of-production (after end of life)          1  \n",
       "21      Special: total percentage (after end of life)          1  \n",
       "24   Special: explicit percentage (after end of life)          1  \n",
       "26     Special: immediate deprec. (after end of life)          1  \n",
       "29  Interest: explicit percentage (after end of life)          1  "
      ]
     },
     "execution_count": 24,
     "metadata": {},
     "output_type": "execute_result"
    }
   ],
   "source": [
    "T090NR"
   ]
  },
  {
   "cell_type": "code",
   "execution_count": 26,
   "id": "a88c4ac0-0d02-452f-8e34-476cdc4c5f29",
   "metadata": {},
   "outputs": [],
   "source": [
    "T090NR.to_csv(\"EDA17_new.csv\", index=False)"
   ]
  },
  {
   "cell_type": "code",
   "execution_count": null,
   "id": "8f6ab49e-04f2-4193-8781-777e987d7919",
   "metadata": {},
   "outputs": [],
   "source": []
  }
 ],
 "metadata": {
  "kernelspec": {
   "display_name": "Python 3 (ipykernel)",
   "language": "python",
   "name": "python3"
  },
  "language_info": {
   "codemirror_mode": {
    "name": "ipython",
    "version": 3
   },
   "file_extension": ".py",
   "mimetype": "text/x-python",
   "name": "python",
   "nbconvert_exporter": "python",
   "pygments_lexer": "ipython3",
   "version": "3.12.7"
  }
 },
 "nbformat": 4,
 "nbformat_minor": 5
}
