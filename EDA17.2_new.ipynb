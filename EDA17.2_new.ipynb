{
 "cells": [
  {
   "cell_type": "code",
   "execution_count": 29,
   "id": "98427897-3755-49ed-9a80-6b313fd08a48",
   "metadata": {},
   "outputs": [],
   "source": [
    "import pandas as pd\n",
    "import numpy as np"
   ]
  },
  {
   "cell_type": "code",
   "execution_count": 30,
   "id": "ab578ace-c76c-4261-82ee-43cc2ffb0c28",
   "metadata": {},
   "outputs": [
    {
     "data": {
      "text/html": [
       "<div>\n",
       "<style scoped>\n",
       "    .dataframe tbody tr th:only-of-type {\n",
       "        vertical-align: middle;\n",
       "    }\n",
       "\n",
       "    .dataframe tbody tr th {\n",
       "        vertical-align: top;\n",
       "    }\n",
       "\n",
       "    .dataframe thead th {\n",
       "        text-align: right;\n",
       "    }\n",
       "</style>\n",
       "<table border=\"1\" class=\"dataframe\">\n",
       "  <thead>\n",
       "    <tr style=\"text-align: right;\">\n",
       "      <th></th>\n",
       "      <th>AFAPL</th>\n",
       "      <th>AFASL</th>\n",
       "      <th>AFATYP</th>\n",
       "      <th>PHASE</th>\n",
       "      <th>AFARSL</th>\n",
       "      <th>METDEG</th>\n",
       "      <th>METPER</th>\n",
       "      <th>METSTU</th>\n",
       "      <th>METHBT</th>\n",
       "      <th>UMSTM</th>\n",
       "      <th>UMRPRZ</th>\n",
       "      <th>MSFAKR</th>\n",
       "      <th>SCHROTT</th>\n",
       "      <th>XSTILL</th>\n",
       "      <th>AFACLA</th>\n",
       "    </tr>\n",
       "  </thead>\n",
       "  <tbody>\n",
       "    <tr>\n",
       "      <th>0</th>\n",
       "      <td>0AR</td>\n",
       "      <td>0000</td>\n",
       "      <td>N</td>\n",
       "      <td>1</td>\n",
       "      <td>0002</td>\n",
       "      <td>001</td>\n",
       "      <td>001</td>\n",
       "      <td>001</td>\n",
       "      <td>NaN</td>\n",
       "      <td>NaN</td>\n",
       "      <td>0.0</td>\n",
       "      <td>NaN</td>\n",
       "      <td>0</td>\n",
       "      <td>NaN</td>\n",
       "      <td>0.0</td>\n",
       "    </tr>\n",
       "    <tr>\n",
       "      <th>1</th>\n",
       "      <td>0AT</td>\n",
       "      <td>0000</td>\n",
       "      <td>N</td>\n",
       "      <td>1</td>\n",
       "      <td>0002</td>\n",
       "      <td>001</td>\n",
       "      <td>001</td>\n",
       "      <td>001</td>\n",
       "      <td>NaN</td>\n",
       "      <td>NaN</td>\n",
       "      <td>0.0</td>\n",
       "      <td>NaN</td>\n",
       "      <td>0</td>\n",
       "      <td>NaN</td>\n",
       "      <td>0.0</td>\n",
       "    </tr>\n",
       "    <tr>\n",
       "      <th>2</th>\n",
       "      <td>0AU</td>\n",
       "      <td>0000</td>\n",
       "      <td>N</td>\n",
       "      <td>1</td>\n",
       "      <td>0002</td>\n",
       "      <td>001</td>\n",
       "      <td>001</td>\n",
       "      <td>001</td>\n",
       "      <td>NaN</td>\n",
       "      <td>NaN</td>\n",
       "      <td>0.0</td>\n",
       "      <td>NaN</td>\n",
       "      <td>0</td>\n",
       "      <td>NaN</td>\n",
       "      <td>0.0</td>\n",
       "    </tr>\n",
       "    <tr>\n",
       "      <th>3</th>\n",
       "      <td>0BE</td>\n",
       "      <td>0000</td>\n",
       "      <td>N</td>\n",
       "      <td>1</td>\n",
       "      <td>0002</td>\n",
       "      <td>001</td>\n",
       "      <td>001</td>\n",
       "      <td>001</td>\n",
       "      <td>NaN</td>\n",
       "      <td>NaN</td>\n",
       "      <td>0.0</td>\n",
       "      <td>NaN</td>\n",
       "      <td>0</td>\n",
       "      <td>NaN</td>\n",
       "      <td>0.0</td>\n",
       "    </tr>\n",
       "    <tr>\n",
       "      <th>4</th>\n",
       "      <td>0BR</td>\n",
       "      <td>0000</td>\n",
       "      <td>N</td>\n",
       "      <td>1</td>\n",
       "      <td>0002</td>\n",
       "      <td>001</td>\n",
       "      <td>001</td>\n",
       "      <td>001</td>\n",
       "      <td>NaN</td>\n",
       "      <td>NaN</td>\n",
       "      <td>0.0</td>\n",
       "      <td>NaN</td>\n",
       "      <td>0</td>\n",
       "      <td>NaN</td>\n",
       "      <td>0.0</td>\n",
       "    </tr>\n",
       "  </tbody>\n",
       "</table>\n",
       "</div>"
      ],
      "text/plain": [
       "  AFAPL AFASL AFATYP  PHASE AFARSL METDEG METPER METSTU  METHBT  UMSTM  \\\n",
       "0   0AR  0000      N      1   0002    001    001    001     NaN    NaN   \n",
       "1   0AT  0000      N      1   0002    001    001    001     NaN    NaN   \n",
       "2   0AU  0000      N      1   0002    001    001    001     NaN    NaN   \n",
       "3   0BE  0000      N      1   0002    001    001    001     NaN    NaN   \n",
       "4   0BR  0000      N      1   0002    001    001    001     NaN    NaN   \n",
       "\n",
       "   UMRPRZ  MSFAKR  SCHROTT XSTILL  AFACLA  \n",
       "0     0.0     NaN        0    NaN     0.0  \n",
       "1     0.0     NaN        0    NaN     0.0  \n",
       "2     0.0     NaN        0    NaN     0.0  \n",
       "3     0.0     NaN        0    NaN     0.0  \n",
       "4     0.0     NaN        0    NaN     0.0  "
      ]
     },
     "execution_count": 30,
     "metadata": {},
     "output_type": "execute_result"
    }
   ],
   "source": [
    "T090NAZ = pd.read_excel(\"T090NAZ.xlsx\")\n",
    "T090NAZ.head()"
   ]
  },
  {
   "cell_type": "code",
   "execution_count": 31,
   "id": "e68f296e-83a5-436f-ab2c-2d47cfa0d8f6",
   "metadata": {},
   "outputs": [
    {
     "data": {
      "text/plain": [
       "AFAPL         0\n",
       "AFASL         0\n",
       "AFATYP        0\n",
       "PHASE         0\n",
       "AFARSL        0\n",
       "METDEG       43\n",
       "METPER        0\n",
       "METSTU        0\n",
       "METHBT     2280\n",
       "UMSTM      1377\n",
       "UMRPRZ        0\n",
       "MSFAKR     1816\n",
       "SCHROTT       0\n",
       "XSTILL     2174\n",
       "AFACLA        3\n",
       "dtype: int64"
      ]
     },
     "execution_count": 31,
     "metadata": {},
     "output_type": "execute_result"
    }
   ],
   "source": [
    "T090NAZ.isna().sum()"
   ]
  },
  {
   "cell_type": "code",
   "execution_count": 32,
   "id": "40fcf778-f254-446a-9277-06f0d5a01b14",
   "metadata": {},
   "outputs": [
    {
     "data": {
      "text/plain": [
       "Index(['AFAPL', 'AFASL', 'AFATYP', 'PHASE', 'AFARSL', 'METDEG', 'METPER',\n",
       "       'METSTU', 'METHBT', 'UMSTM', 'UMRPRZ', 'MSFAKR', 'SCHROTT', 'XSTILL',\n",
       "       'AFACLA'],\n",
       "      dtype='object')"
      ]
     },
     "execution_count": 32,
     "metadata": {},
     "output_type": "execute_result"
    }
   ],
   "source": [
    "T090NAZ.columns"
   ]
  },
  {
   "cell_type": "code",
   "execution_count": 33,
   "id": "f6f97657-71b8-4838-b683-ad5abf7c5cea",
   "metadata": {},
   "outputs": [],
   "source": [
    "T090NAZ = T090NAZ.rename(columns=lambda x: x.strip())"
   ]
  },
  {
   "cell_type": "code",
   "execution_count": 34,
   "id": "dbe95c45-ebe6-4bc3-bc67-4be0a5e12eca",
   "metadata": {},
   "outputs": [
    {
     "data": {
      "text/plain": [
       "Index(['AFAPL', 'AFASL', 'AFATYP', 'PHASE', 'AFARSL', 'METDEG', 'METPER',\n",
       "       'METSTU', 'METHBT', 'UMSTM', 'UMRPRZ', 'MSFAKR', 'SCHROTT', 'XSTILL',\n",
       "       'AFACLA'],\n",
       "      dtype='object')"
      ]
     },
     "execution_count": 34,
     "metadata": {},
     "output_type": "execute_result"
    }
   ],
   "source": [
    "T090NAZ.columns"
   ]
  },
  {
   "cell_type": "code",
   "execution_count": null,
   "id": "8c2e1a08-1aa2-451b-91b0-16634838d6b5",
   "metadata": {},
   "outputs": [],
   "source": []
  },
  {
   "cell_type": "code",
   "execution_count": 35,
   "id": "6468188e-aad7-4371-b014-aefe1f13ce13",
   "metadata": {},
   "outputs": [],
   "source": [
    "T090NAZ = T090NAZ[T090NAZ['MSFAKR'] == 2]"
   ]
  },
  {
   "cell_type": "code",
   "execution_count": 36,
   "id": "b2bec117-f017-4670-83e3-9a05eaa95e7d",
   "metadata": {},
   "outputs": [],
   "source": [
    "T090NAZ = T090NAZ[T090NAZ['AFAPL'] == '1000']"
   ]
  },
  {
   "cell_type": "code",
   "execution_count": 39,
   "id": "6c5cdbfe-d685-40d2-8695-b66adfaa017b",
   "metadata": {},
   "outputs": [],
   "source": [
    "T090NAZ.to_csv(\"EDA17.2_new_result.csv\",index=False)"
   ]
  },
  {
   "cell_type": "code",
   "execution_count": null,
   "id": "74df3c44-c9fa-4c97-822a-5dc99a671a9a",
   "metadata": {},
   "outputs": [],
   "source": []
  }
 ],
 "metadata": {
  "kernelspec": {
   "display_name": "Python 3 (ipykernel)",
   "language": "python",
   "name": "python3"
  },
  "language_info": {
   "codemirror_mode": {
    "name": "ipython",
    "version": 3
   },
   "file_extension": ".py",
   "mimetype": "text/x-python",
   "name": "python",
   "nbconvert_exporter": "python",
   "pygments_lexer": "ipython3",
   "version": "3.12.7"
  }
 },
 "nbformat": 4,
 "nbformat_minor": 5
}
