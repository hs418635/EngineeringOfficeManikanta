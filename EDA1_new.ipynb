{
 "cells": [
  {
   "cell_type": "code",
   "execution_count": 21,
   "id": "56b31cd1-bf72-41e1-a47b-5c1ae72b1c8b",
   "metadata": {},
   "outputs": [],
   "source": [
    "import pandas as pd\n",
    "import numpy as np"
   ]
  },
  {
   "cell_type": "code",
   "execution_count": 13,
   "id": "bcb89a75-520d-4e9c-ad78-959f9e9ab10f",
   "metadata": {},
   "outputs": [
    {
     "name": "stderr",
     "output_type": "stream",
     "text": [
      "<>:1: SyntaxWarning: invalid escape sequence '\\T'\n",
      "<>:1: SyntaxWarning: invalid escape sequence '\\T'\n",
      "C:\\Users\\HIMANSHU SURYAVANSHI\\AppData\\Local\\Temp\\ipykernel_4740\\3417555063.py:1: SyntaxWarning: invalid escape sequence '\\T'\n",
      "  df = pd.read_excel(\"Script 1 - New\\T160D.xlsx\")\n"
     ]
    }
   ],
   "source": [
    "df = pd.read_excel(\"Script 1 - New\\T160D.xlsx\")"
   ]
  },
  {
   "cell_type": "code",
   "execution_count": 14,
   "id": "8f8bfccc-493f-4a9d-ac1a-55f81180e7d5",
   "metadata": {},
   "outputs": [
    {
     "data": {
      "text/html": [
       "<div>\n",
       "<style scoped>\n",
       "    .dataframe tbody tr th:only-of-type {\n",
       "        vertical-align: middle;\n",
       "    }\n",
       "\n",
       "    .dataframe tbody tr th {\n",
       "        vertical-align: top;\n",
       "    }\n",
       "\n",
       "    .dataframe thead th {\n",
       "        text-align: right;\n",
       "    }\n",
       "</style>\n",
       "<table border=\"1\" class=\"dataframe\">\n",
       "  <thead>\n",
       "    <tr style=\"text-align: right;\">\n",
       "      <th></th>\n",
       "      <th>EFUBU</th>\n",
       "      <th>EPRSA</th>\n",
       "      <th>EPRSZ</th>\n",
       "      <th>EOHNM</th>\n",
       "      <th>ERFBL</th>\n",
       "      <th>ERFAN</th>\n",
       "      <th>ERFAG</th>\n",
       "      <th>ERFKA</th>\n",
       "      <th>ERFKM</th>\n",
       "      <th>ERFKW</th>\n",
       "      <th>...</th>\n",
       "      <th>EBZIN</th>\n",
       "      <th>EBZOM</th>\n",
       "      <th>ERES1</th>\n",
       "      <th>ERES2</th>\n",
       "      <th>ERES3</th>\n",
       "      <th>EUEB1</th>\n",
       "      <th>BREFN</th>\n",
       "      <th>EBPUEB</th>\n",
       "      <th>FBREFN</th>\n",
       "      <th>Description</th>\n",
       "    </tr>\n",
       "  </thead>\n",
       "  <tbody>\n",
       "    <tr>\n",
       "      <th>0</th>\n",
       "      <td>1</td>\n",
       "      <td>NaN</td>\n",
       "      <td>NaN</td>\n",
       "      <td>NaN</td>\n",
       "      <td>NaN</td>\n",
       "      <td>NaN</td>\n",
       "      <td>NaN</td>\n",
       "      <td>NaN</td>\n",
       "      <td>NaN</td>\n",
       "      <td>NaN</td>\n",
       "      <td>...</td>\n",
       "      <td>NaN</td>\n",
       "      <td>NaN</td>\n",
       "      <td>NaN</td>\n",
       "      <td>NaN</td>\n",
       "      <td>NaN</td>\n",
       "      <td>NaN</td>\n",
       "      <td>NaN</td>\n",
       "      <td>NaN</td>\n",
       "      <td>NaN</td>\n",
       "      <td>Restrict PO without RFQ/Q</td>\n",
       "    </tr>\n",
       "  </tbody>\n",
       "</table>\n",
       "<p>1 rows × 28 columns</p>\n",
       "</div>"
      ],
      "text/plain": [
       "   EFUBU  EPRSA  EPRSZ  EOHNM  ERFBL  ERFAN  ERFAG  ERFKA  ERFKM  ERFKW  ...  \\\n",
       "0      1    NaN    NaN    NaN    NaN    NaN    NaN    NaN    NaN    NaN  ...   \n",
       "\n",
       "   EBZIN  EBZOM  ERES1  ERES2  ERES3  EUEB1  BREFN  EBPUEB  FBREFN  \\\n",
       "0    NaN    NaN    NaN    NaN    NaN    NaN    NaN     NaN     NaN   \n",
       "\n",
       "                 Description  \n",
       "0  Restrict PO without RFQ/Q  \n",
       "\n",
       "[1 rows x 28 columns]"
      ]
     },
     "execution_count": 14,
     "metadata": {},
     "output_type": "execute_result"
    }
   ],
   "source": [
    "df.head()"
   ]
  },
  {
   "cell_type": "code",
   "execution_count": 15,
   "id": "7000936c-d790-4f5e-82f6-a9562c5efb70",
   "metadata": {
    "collapsed": true,
    "jupyter": {
     "outputs_hidden": true
    }
   },
   "outputs": [
    {
     "data": {
      "text/plain": [
       "['EFUBU',\n",
       " 'EPRSA',\n",
       " 'EPRSZ',\n",
       " 'EOHNM',\n",
       " 'ERFBL',\n",
       " 'ERFAN',\n",
       " 'ERFAG',\n",
       " 'ERFKA',\n",
       " 'ERFKM',\n",
       " 'ERFKW',\n",
       " 'ERFBA',\n",
       " 'ERFB1',\n",
       " 'ERFB2',\n",
       " 'ERFIN',\n",
       " 'EMANU',\n",
       " 'EBZKA',\n",
       " 'EBZKM',\n",
       " 'EBZKW',\n",
       " 'EBZIN',\n",
       " 'EBZOM',\n",
       " 'ERES1',\n",
       " 'ERES2',\n",
       " 'ERES3',\n",
       " 'EUEB1',\n",
       " 'BREFN',\n",
       " 'EBPUEB',\n",
       " 'FBREFN',\n",
       " 'Description']"
      ]
     },
     "execution_count": 15,
     "metadata": {},
     "output_type": "execute_result"
    }
   ],
   "source": [
    "list(df.columns)"
   ]
  },
  {
   "cell_type": "code",
   "execution_count": 16,
   "id": "ddb62ddd-160b-44c9-84e2-2486352c22dc",
   "metadata": {},
   "outputs": [],
   "source": [
    "df.rename(columns=lambda x : x.strip(), inplace=True)"
   ]
  },
  {
   "cell_type": "code",
   "execution_count": 17,
   "id": "b13ae030-545a-4c0a-b656-095148032644",
   "metadata": {
    "collapsed": true,
    "jupyter": {
     "outputs_hidden": true
    },
    "scrolled": true
   },
   "outputs": [
    {
     "data": {
      "text/plain": [
       "['EFUBU',\n",
       " 'EPRSA',\n",
       " 'EPRSZ',\n",
       " 'EOHNM',\n",
       " 'ERFBL',\n",
       " 'ERFAN',\n",
       " 'ERFAG',\n",
       " 'ERFKA',\n",
       " 'ERFKM',\n",
       " 'ERFKW',\n",
       " 'ERFBA',\n",
       " 'ERFB1',\n",
       " 'ERFB2',\n",
       " 'ERFIN',\n",
       " 'EMANU',\n",
       " 'EBZKA',\n",
       " 'EBZKM',\n",
       " 'EBZKW',\n",
       " 'EBZIN',\n",
       " 'EBZOM',\n",
       " 'ERES1',\n",
       " 'ERES2',\n",
       " 'ERES3',\n",
       " 'EUEB1',\n",
       " 'BREFN',\n",
       " 'EBPUEB',\n",
       " 'FBREFN',\n",
       " 'Description']"
      ]
     },
     "execution_count": 17,
     "metadata": {},
     "output_type": "execute_result"
    }
   ],
   "source": [
    "list(df.columns)"
   ]
  },
  {
   "cell_type": "code",
   "execution_count": 25,
   "id": "b2daccb6-2771-4d4a-a27a-c8cc0ec67139",
   "metadata": {},
   "outputs": [
    {
     "data": {
      "text/plain": [
       "0   NaN\n",
       "Name: ERFBA, dtype: float64"
      ]
     },
     "execution_count": 25,
     "metadata": {},
     "output_type": "execute_result"
    }
   ],
   "source": [
    "df['ERFBA']"
   ]
  },
  {
   "cell_type": "code",
   "execution_count": 27,
   "id": "0ce3373d-eced-4890-92b1-0b66b1dacffb",
   "metadata": {},
   "outputs": [],
   "source": [
    "filtered_df = df[df['ERFBA'].isna()]"
   ]
  },
  {
   "cell_type": "code",
   "execution_count": 28,
   "id": "91a73f3f-9852-453a-b85a-9d59ad906613",
   "metadata": {},
   "outputs": [
    {
     "data": {
      "text/html": [
       "<div>\n",
       "<style scoped>\n",
       "    .dataframe tbody tr th:only-of-type {\n",
       "        vertical-align: middle;\n",
       "    }\n",
       "\n",
       "    .dataframe tbody tr th {\n",
       "        vertical-align: top;\n",
       "    }\n",
       "\n",
       "    .dataframe thead th {\n",
       "        text-align: right;\n",
       "    }\n",
       "</style>\n",
       "<table border=\"1\" class=\"dataframe\">\n",
       "  <thead>\n",
       "    <tr style=\"text-align: right;\">\n",
       "      <th></th>\n",
       "      <th>EFUBU</th>\n",
       "      <th>EPRSA</th>\n",
       "      <th>EPRSZ</th>\n",
       "      <th>EOHNM</th>\n",
       "      <th>ERFBL</th>\n",
       "      <th>ERFAN</th>\n",
       "      <th>ERFAG</th>\n",
       "      <th>ERFKA</th>\n",
       "      <th>ERFKM</th>\n",
       "      <th>ERFKW</th>\n",
       "      <th>...</th>\n",
       "      <th>EBZIN</th>\n",
       "      <th>EBZOM</th>\n",
       "      <th>ERES1</th>\n",
       "      <th>ERES2</th>\n",
       "      <th>ERES3</th>\n",
       "      <th>EUEB1</th>\n",
       "      <th>BREFN</th>\n",
       "      <th>EBPUEB</th>\n",
       "      <th>FBREFN</th>\n",
       "      <th>Description</th>\n",
       "    </tr>\n",
       "  </thead>\n",
       "  <tbody>\n",
       "    <tr>\n",
       "      <th>0</th>\n",
       "      <td>1</td>\n",
       "      <td>NaN</td>\n",
       "      <td>NaN</td>\n",
       "      <td>NaN</td>\n",
       "      <td>NaN</td>\n",
       "      <td>NaN</td>\n",
       "      <td>NaN</td>\n",
       "      <td>NaN</td>\n",
       "      <td>NaN</td>\n",
       "      <td>NaN</td>\n",
       "      <td>...</td>\n",
       "      <td>NaN</td>\n",
       "      <td>NaN</td>\n",
       "      <td>NaN</td>\n",
       "      <td>NaN</td>\n",
       "      <td>NaN</td>\n",
       "      <td>NaN</td>\n",
       "      <td>NaN</td>\n",
       "      <td>NaN</td>\n",
       "      <td>NaN</td>\n",
       "      <td>Restrict PO without RFQ/Q</td>\n",
       "    </tr>\n",
       "  </tbody>\n",
       "</table>\n",
       "<p>1 rows × 28 columns</p>\n",
       "</div>"
      ],
      "text/plain": [
       "   EFUBU  EPRSA  EPRSZ  EOHNM  ERFBL  ERFAN  ERFAG  ERFKA  ERFKM  ERFKW  ...  \\\n",
       "0      1    NaN    NaN    NaN    NaN    NaN    NaN    NaN    NaN    NaN  ...   \n",
       "\n",
       "   EBZIN  EBZOM  ERES1  ERES2  ERES3  EUEB1  BREFN  EBPUEB  FBREFN  \\\n",
       "0    NaN    NaN    NaN    NaN    NaN    NaN    NaN     NaN     NaN   \n",
       "\n",
       "                 Description  \n",
       "0  Restrict PO without RFQ/Q  \n",
       "\n",
       "[1 rows x 28 columns]"
      ]
     },
     "execution_count": 28,
     "metadata": {},
     "output_type": "execute_result"
    }
   ],
   "source": [
    "filtered_df.head()"
   ]
  },
  {
   "cell_type": "code",
   "execution_count": 30,
   "id": "06024a81-2baa-499c-8ac8-090695fce182",
   "metadata": {},
   "outputs": [],
   "source": [
    "filtered_df.to_csv(\"EDA1_new.csv\", index=False)"
   ]
  },
  {
   "cell_type": "code",
   "execution_count": null,
   "id": "984861c6-b13c-4979-bdef-cc1f09770612",
   "metadata": {},
   "outputs": [],
   "source": []
  }
 ],
 "metadata": {
  "kernelspec": {
   "display_name": "Python 3 (ipykernel)",
   "language": "python",
   "name": "python3"
  },
  "language_info": {
   "codemirror_mode": {
    "name": "ipython",
    "version": 3
   },
   "file_extension": ".py",
   "mimetype": "text/x-python",
   "name": "python",
   "nbconvert_exporter": "python",
   "pygments_lexer": "ipython3",
   "version": "3.12.7"
  }
 },
 "nbformat": 4,
 "nbformat_minor": 5
}
